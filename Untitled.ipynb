{
 "cells": [
  {
   "cell_type": "code",
   "execution_count": 1,
   "metadata": {
    "collapsed": false
   },
   "outputs": [
    {
     "name": "stdout",
     "output_type": "stream",
     "text": [
      "Building the style transfer model..\n",
      "Opimizing...\n",
      "run [50]\n",
      "Style Loss: 6.1445 Content Loss: 6.8628\n",
      "\n"
     ]
    }
   ],
   "source": [
    "from run_code import run_style_transfer\n",
    "\n",
    "from load_img import load_img, show_img\n",
    "\n",
    "from torch.autograd import Variable\n",
    "\n",
    "style_img = load_img('./picture/style.png')\n",
    "style_img = Variable(style_img).cuda()\n",
    "content_img = load_img('./picture/2.JPG')\n",
    "content_img = Variable(content_img).cuda()\n",
    "\n",
    "input_img = content_img.clone()\n",
    "\n",
    "out = run_style_transfer(content_img, style_img, input_img, num_epoches=50)\n",
    "\n",
    "show_img(out.cpu())"
   ]
  },
  {
   "cell_type": "code",
   "execution_count": 2,
   "metadata": {
    "collapsed": true
   },
   "outputs": [],
   "source": [
    "a = out.cpu()"
   ]
  },
  {
   "cell_type": "code",
   "execution_count": 3,
   "metadata": {
    "collapsed": false
   },
   "outputs": [],
   "source": [
    "import torchvision.transforms as transforms"
   ]
  },
  {
   "cell_type": "code",
   "execution_count": 4,
   "metadata": {
    "collapsed": false
   },
   "outputs": [],
   "source": [
    "a = a.squeeze(0)"
   ]
  },
  {
   "cell_type": "code",
   "execution_count": 5,
   "metadata": {
    "collapsed": false
   },
   "outputs": [],
   "source": [
    "b = transforms.ToPILImage()(a)"
   ]
  },
  {
   "cell_type": "code",
   "execution_count": 6,
   "metadata": {
    "collapsed": true
   },
   "outputs": [],
   "source": [
    "b.save('./picture/bao.png')"
   ]
  }
 ],
 "metadata": {
  "anaconda-cloud": {},
  "kernelspec": {
   "display_name": "Python [conda env:pytorch]",
   "language": "python",
   "name": "conda-env-pytorch-py"
  },
  "language_info": {
   "codemirror_mode": {
    "name": "ipython",
    "version": 3
   },
   "file_extension": ".py",
   "mimetype": "text/x-python",
   "name": "python",
   "nbconvert_exporter": "python",
   "pygments_lexer": "ipython3",
   "version": "3.6.1"
  }
 },
 "nbformat": 4,
 "nbformat_minor": 1
}
